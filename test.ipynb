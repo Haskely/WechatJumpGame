{
 "cells": [
  {
   "cell_type": "code",
   "execution_count": 2,
   "metadata": {},
   "outputs": [],
   "source": [
    "import numpy as np\n",
    "import cv2 \n",
    "from pathlib import Path\n",
    "def test_matchTemplate(ori_img,template,mask = None, name:str = 'test'):\n",
    "    dirpath = Path(name)\n",
    "    dirpath.mkdir(exist_ok=True)\n",
    "    methods = {\n",
    "        cv2.TM_CCOEFF:'TM_CCOEFF',\n",
    "        cv2.TM_CCOEFF_NORMED:'TM_CCOEFF_NORMED',\n",
    "        cv2.TM_CCORR:'TM_CCORR',\n",
    "        cv2.TM_CCORR_NORMED:'TM_CCORR_NORMED',\n",
    "        cv2.TM_SQDIFF:'TM_SQDIFF',\n",
    "        cv2.TM_SQDIFF_NORMED:'TM_SQDIFF_NORMED',\n",
    "    }\n",
    "    for method in methods:\n",
    "        img = ori_img.copy()\n",
    "        res = cv2.matchTemplate(img, template, method, None, mask)\n",
    "\n",
    "        if method in [cv2.TM_SQDIFF, cv2.TM_SQDIFF_NORMED]:\n",
    "            value = res.min()\n",
    "            index = np.unravel_index(res.argmin(),res.shape)\n",
    "        else:\n",
    "            value = res.max()\n",
    "            index = np.unravel_index(res.argmax(),res.shape)\n",
    "        top_left = index[::-1]\n",
    "        \n",
    "\n",
    "        bottom_right = (top_left[0] + template.shape[1], top_left[1] + template.shape[0])\n",
    "        cv2.rectangle(img,top_left, bottom_right, 255, 2)\n",
    "        cv2.imwrite(str(dirpath / f'out_{name}_{methods[method]}_{value/res.mean():g}.png'),img)\n",
    "\n",
    "def get_mask(templ):\n",
    "    return (templ != 0).all(-1).astype('uint8')\n"
   ]
  },
  {
   "cell_type": "code",
   "execution_count": 3,
   "metadata": {},
   "outputs": [],
   "source": [
    "sc1 = cv2.imread('sc1.png')\n",
    "checker_img = cv2.imread('checker.png')\n",
    "test_matchTemplate(sc1,checker_img,get_mask(checker_img),'sc1_checker_mask')"
   ]
  },
  {
   "cell_type": "code",
   "execution_count": 4,
   "metadata": {},
   "outputs": [],
   "source": [
    "restart_sc = cv2.imread('restart_sc.png')\n",
    "button_img = cv2.imread('button.png')\n",
    "test_matchTemplate(restart_sc,button_img,get_mask(button_img),'restart_button_mask')"
   ]
  },
  {
   "cell_type": "code",
   "execution_count": 5,
   "metadata": {},
   "outputs": [],
   "source": [
    "start_sc = cv2.imread('start_sc.png')\n",
    "button_img = cv2.imread('button.png')\n",
    "test_matchTemplate(start_sc,button_img,get_mask(button_img),'start_button_mask')"
   ]
  },
  {
   "cell_type": "code",
   "execution_count": 6,
   "metadata": {},
   "outputs": [],
   "source": [
    "test_matchTemplate(sc1,button_img,get_mask(button_img),'sc1_button_mask')\n",
    "test_matchTemplate(restart_sc,checker_img,get_mask(checker_img),'restart_checker_mask')\n",
    "test_matchTemplate(start_sc,checker_img,get_mask(checker_img),'start_checker_mask')"
   ]
  },
  {
   "cell_type": "code",
   "execution_count": 1,
   "metadata": {},
   "outputs": [
    {
     "name": "stdout",
     "output_type": "stream",
     "text": [
      "0\n"
     ]
    }
   ],
   "source": [
    "import ctypes\n",
    "\n",
    "# Query DPI Awareness (Windows 10 and 8)\n",
    "awareness = ctypes.c_int()\n",
    "errorCode = ctypes.windll.shcore.GetProcessDpiAwareness(0, ctypes.byref(awareness))\n",
    "print(awareness.value)"
   ]
  }
 ],
 "metadata": {
  "interpreter": {
   "hash": "ca0527941c6ea69286654c942ba42bf8bf8b1e242a6be8b14793701f9a6c3612"
  },
  "kernelspec": {
   "display_name": "Python 3.9.7 64-bit ('base': conda)",
   "language": "python",
   "name": "python3"
  },
  "language_info": {
   "codemirror_mode": {
    "name": "ipython",
    "version": 3
   },
   "file_extension": ".py",
   "mimetype": "text/x-python",
   "name": "python",
   "nbconvert_exporter": "python",
   "pygments_lexer": "ipython3",
   "version": "3.9.7"
  },
  "orig_nbformat": 4
 },
 "nbformat": 4,
 "nbformat_minor": 2
}
